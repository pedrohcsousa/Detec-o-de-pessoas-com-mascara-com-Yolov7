{
  "cells": [
    {
      "cell_type": "markdown",
      "source": [
        "Inteligência Computacional 2023-2\n",
        "\n",
        "Equipe Dataplus\n",
        "\n",
        "# Detecção de pessoas com máscara com Yolov7"
      ],
      "metadata": {
        "id": "5UiK_YpbXEUE"
      }
    },
    {
      "cell_type": "markdown",
      "source": [
        "## Preparando o ambiente para detecção"
      ],
      "metadata": {
        "id": "LQVtmMRSXe78"
      }
    },
    {
      "cell_type": "code",
      "execution_count": null,
      "metadata": {
        "id": "MAtQS3IADMaM"
      },
      "outputs": [],
      "source": [
        "!git clone https://github.com/WongKinYiu/yolov7"
      ]
    },
    {
      "cell_type": "code",
      "execution_count": null,
      "metadata": {
        "id": "wel_-Ys9T1I1"
      },
      "outputs": [],
      "source": [
        "%cd yolov7\n",
        "!pip install -r requirements.txt"
      ]
    },
    {
      "cell_type": "code",
      "execution_count": null,
      "metadata": {
        "id": "5C_bJpqfUeuG"
      },
      "outputs": [],
      "source": [
        "!git clone https://github.com/SkalskiP/yolov7.git"
      ]
    },
    {
      "cell_type": "code",
      "execution_count": null,
      "metadata": {
        "id": "EA355wdOUikj"
      },
      "outputs": [],
      "source": [
        "%cd yolov7"
      ]
    },
    {
      "cell_type": "code",
      "execution_count": null,
      "metadata": {
        "id": "Dfox_-CJUkci"
      },
      "outputs": [],
      "source": [
        "!git checkout fix/problems_associated_with_the_latest_versions_of_pytorch_and_numpy"
      ]
    },
    {
      "cell_type": "code",
      "execution_count": null,
      "metadata": {
        "id": "O5OLFKc3UrB9"
      },
      "outputs": [],
      "source": [
        "!pip install -r requirements.txt"
      ]
    },
    {
      "cell_type": "markdown",
      "source": [
        "## Importando datasets do Roboflow"
      ],
      "metadata": {
        "id": "h7Uap5GtWuDy"
      }
    },
    {
      "cell_type": "code",
      "execution_count": null,
      "metadata": {
        "id": "tJR8u9reVCjs"
      },
      "outputs": [],
      "source": [
        "!pip install roboflow\n",
        "\n",
        "from roboflow import Roboflow\n",
        "rf = Roboflow(api_key=\"RNSoaXKZFrapb9sAqC6W\")\n",
        "project = rf.workspace(\"inteligncia-computacional-ufpa\").project(\"masked-people\")\n",
        "dataset = project.version(4).download(\"yolov7\")"
      ]
    },
    {
      "cell_type": "code",
      "execution_count": null,
      "metadata": {
        "id": "ChdRkmt8WJ94"
      },
      "outputs": [],
      "source": [
        "%cd /content/yolov7\n",
        "!wget https://github.com/WongKinYiu/yolov7/releases/download/v0.1/yolov7_training.pt"
      ]
    },
    {
      "cell_type": "code",
      "execution_count": null,
      "metadata": {
        "id": "sTUbeERMWLpr"
      },
      "outputs": [],
      "source": [
        "%cd /content/yolov7\n",
        "!python train.py --batch 16 --epochs 55 --data /content/yolov7/yolov7/Masked-people--4/data.yaml --weights 'yolov7_training.pt' --device 0 "
      ]
    },
    {
      "cell_type": "code",
      "execution_count": null,
      "metadata": {
        "id": "gamcBtitcrnK"
      },
      "outputs": [],
      "source": [
        "!python detect.py --weights /content/yolov7/runs/train/exp7/weights/best.pt --conf 0.1 --source /content/yolov7/yolov7/Masked-people--4/test/images"
      ]
    },
    {
      "cell_type": "code",
      "source": [
        "!python test.py --data /content/yolov7/yolov7/Masked-people--4/data.yaml --img 1280 --batch 16 --conf 0.001 --iou 0.65 --device 0 --weights /content/yolov7/runs/train/exp4/weights/best.pt --name Masked-people-auxiliar-1"
      ],
      "metadata": {
        "id": "ULFYz-z00wPg"
      },
      "execution_count": null,
      "outputs": []
    },
    {
      "cell_type": "markdown",
      "source": [
        "## Importando dataset customizado do Roboflow"
      ],
      "metadata": {
        "id": "7UD_IA9sW369"
      }
    },
    {
      "cell_type": "code",
      "execution_count": null,
      "metadata": {
        "id": "7dzqmFUCfctL"
      },
      "outputs": [],
      "source": [
        "from roboflow import Roboflow\n",
        "rf = Roboflow(api_key=\"RNSoaXKZFrapb9sAqC6W\")\n",
        "project = rf.workspace(\"inteligncia-computacional-ufpa\").project(\"masked-people-auxiliar\")\n",
        "dataset = project.version(1).download(\"yolov7\")"
      ]
    },
    {
      "cell_type": "code",
      "source": [
        "!python test.py --data /content/yolov7/Masked-people-auxiliar-1/data.yaml --img 1280 --batch 16 --conf 0.001 --iou 0.65 --device 0 --weights /content/yolov7/runs/train/exp7/weights/best.pt --name Masked-people-auxiliar-1"
      ],
      "metadata": {
        "id": "WsAUcgqgTIRo"
      },
      "execution_count": null,
      "outputs": []
    }
  ],
  "metadata": {
    "accelerator": "GPU",
    "colab": {
      "provenance": [],
      "toc_visible": true
    },
    "gpuClass": "standard",
    "kernelspec": {
      "display_name": "Python 3",
      "name": "python3"
    },
    "language_info": {
      "name": "python"
    }
  },
  "nbformat": 4,
  "nbformat_minor": 0
}